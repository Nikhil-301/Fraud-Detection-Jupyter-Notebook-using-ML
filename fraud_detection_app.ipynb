{
 "cells": [
  {
   "cell_type": "code",
   "execution_count": 1,
   "id": "264536ff-97ca-487a-9b31-4a23c0b3155d",
   "metadata": {},
   "outputs": [],
   "source": [
    "# Fraud Detection with Logistic Regression & XGBoost\n",
    "\n",
    "# Step 1: Import Libraries\n",
    "import pandas as pd\n",
    "import numpy as np\n",
    "import matplotlib.pyplot as plt\n",
    "import seaborn as sns\n",
    "from sklearn.model_selection import train_test_split\n",
    "from sklearn.preprocessing import StandardScaler\n",
    "from sklearn.linear_model import LogisticRegression\n",
    "from sklearn.metrics import classification_report, confusion_matrix, roc_auc_score, roc_curve\n",
    "from imblearn.over_sampling import SMOTE\n",
    "from xgboost import XGBClassifier"
   ]
  },
  {
   "cell_type": "code",
   "execution_count": 2,
   "id": "d8f5125f-a7a1-4355-b945-ac9e01524aac",
   "metadata": {},
   "outputs": [
    {
     "name": "stdout",
     "output_type": "stream",
     "text": [
      "Original shape: (284807, 31)\n"
     ]
    }
   ],
   "source": [
    "# Step 2: Load Dataset\n",
    "df = pd.read_csv(\"creditcard.csv\")\n",
    "print(\"Original shape:\", df.shape)\n"
   ]
  },
  {
   "cell_type": "code",
   "execution_count": 3,
   "id": "51d6a3c4-f369-41df-afe2-055f8ed35e1e",
   "metadata": {},
   "outputs": [],
   "source": [
    "# Step 3: Preprocess\n",
    "scaler = StandardScaler()\n",
    "df['Amount'] = scaler.fit_transform(df[['Amount']])\n",
    "df.drop('Time', axis=1, inplace=True)"
   ]
  },
  {
   "cell_type": "code",
   "execution_count": 4,
   "id": "1c908c84-3210-4664-810e-ac191bf715b2",
   "metadata": {},
   "outputs": [],
   "source": [
    "# Step 4: Split Features/Labels\n",
    "X = df.drop('Class', axis=1)\n",
    "y = df['Class']"
   ]
  },
  {
   "cell_type": "code",
   "execution_count": 5,
   "id": "25fd7d37-57dd-4bac-9a64-db616d106884",
   "metadata": {},
   "outputs": [],
   "source": [
    "# Step 5: Train-Test Split\n",
    "X_train, X_test, y_train, y_test = train_test_split(X, y, test_size=0.3, stratify=y, random_state=42)"
   ]
  },
  {
   "cell_type": "code",
   "execution_count": 6,
   "id": "dfc59501-1593-4f4f-8f2a-82023e5d7eb5",
   "metadata": {},
   "outputs": [
    {
     "name": "stdout",
     "output_type": "stream",
     "text": [
      "Class distribution after SMOTE:\n",
      " Class\n",
      "0    199020\n",
      "1    199020\n",
      "Name: count, dtype: int64\n"
     ]
    }
   ],
   "source": [
    "# Step 6: Apply SMOTE to balance the training set\n",
    "sm = SMOTE(random_state=42)\n",
    "X_res, y_res = sm.fit_resample(X_train, y_train)\n",
    "\n",
    "print(\"Class distribution after SMOTE:\\n\", y_res.value_counts())\n"
   ]
  },
  {
   "cell_type": "code",
   "execution_count": 8,
   "id": "ea09917a-2b95-4e5a-9eab-ba9395cd725d",
   "metadata": {},
   "outputs": [
    {
     "name": "stdout",
     "output_type": "stream",
     "text": [
      "\n",
      "🔎 Logistic Regression Results:\n",
      "[[83328  1967]\n",
      " [   18   130]]\n",
      "              precision    recall  f1-score   support\n",
      "\n",
      "           0       1.00      0.98      0.99     85295\n",
      "           1       0.06      0.88      0.12       148\n",
      "\n",
      "    accuracy                           0.98     85443\n",
      "   macro avg       0.53      0.93      0.55     85443\n",
      "weighted avg       1.00      0.98      0.99     85443\n",
      "\n",
      "ROC AUC Score: 0.9676177115036368\n"
     ]
    }
   ],
   "source": [
    "# Step 7: Logistic Regression\n",
    "lr = LogisticRegression(max_iter=1000)\n",
    "lr.fit(X_res, y_res)\n",
    "y_pred_lr = lr.predict(X_test)\n",
    "y_scores_lr = lr.predict_proba(X_test)[:, 1]\n",
    "\n",
    "print(\"\\n🔎 Logistic Regression Results:\")\n",
    "print(confusion_matrix(y_test, y_pred_lr))\n",
    "print(classification_report(y_test, y_pred_lr))\n",
    "print(\"ROC AUC Score:\", roc_auc_score(y_test, y_scores_lr))\n"
   ]
  },
  {
   "cell_type": "code",
   "execution_count": 9,
   "id": "68947ade-c48d-46cb-8f60-fd3e16b9172d",
   "metadata": {},
   "outputs": [
    {
     "name": "stderr",
     "output_type": "stream",
     "text": [
      "C:\\Users\\KIIT\\AppData\\Local\\Programs\\Python\\Python312\\Lib\\site-packages\\xgboost\\training.py:183: UserWarning: [01:29:08] WARNING: C:\\actions-runner\\_work\\xgboost\\xgboost\\src\\learner.cc:738: \n",
      "Parameters: { \"use_label_encoder\" } are not used.\n",
      "\n",
      "  bst.update(dtrain, iteration=i, fobj=obj)\n"
     ]
    },
    {
     "name": "stdout",
     "output_type": "stream",
     "text": [
      "\n",
      "🔎 XGBoost Results:\n",
      "[[85252    43]\n",
      " [   28   120]]\n",
      "              precision    recall  f1-score   support\n",
      "\n",
      "           0       1.00      1.00      1.00     85295\n",
      "           1       0.74      0.81      0.77       148\n",
      "\n",
      "    accuracy                           1.00     85443\n",
      "   macro avg       0.87      0.91      0.89     85443\n",
      "weighted avg       1.00      1.00      1.00     85443\n",
      "\n",
      "ROC AUC Score: 0.9705303374774036\n"
     ]
    }
   ],
   "source": [
    "# Step 8: XGBoost Classifier\n",
    "xgb = XGBClassifier(use_label_encoder=False, eval_metric='logloss', random_state=42)\n",
    "xgb.fit(X_res, y_res)\n",
    "y_pred_xgb = xgb.predict(X_test)\n",
    "y_scores_xgb = xgb.predict_proba(X_test)[:, 1]\n",
    "\n",
    "print(\"\\n🔎 XGBoost Results:\")\n",
    "print(confusion_matrix(y_test, y_pred_xgb))\n",
    "print(classification_report(y_test, y_pred_xgb))\n",
    "print(\"ROC AUC Score:\", roc_auc_score(y_test, y_scores_xgb))"
   ]
  },
  {
   "cell_type": "code",
   "execution_count": 10,
   "id": "9915c1e0-6f02-4e7b-97b3-4787c834b682",
   "metadata": {},
   "outputs": [
    {
     "data": {
      "image/png": "[encoded data removed]",
      "text/plain": [
       "<Figure size 800x600 with 1 Axes>"
      ]
     },
     "metadata": {},
     "output_type": "display_data"
    }
   ],
   "source": [
    "# Step 9: Compare ROC Curves\n",
    "fpr_lr, tpr_lr, _ = roc_curve(y_test, y_scores_lr)\n",
    "fpr_xgb, tpr_xgb, _ = roc_curve(y_test, y_scores_xgb)\n",
    "\n",
    "plt.figure(figsize=(8,6))\n",
    "plt.plot(fpr_lr, tpr_lr, label=\"Logistic Regression\")\n",
    "plt.plot(fpr_xgb, tpr_xgb, label=\"XGBoost\")\n",
    "plt.plot([0,1], [0,1], 'k--')\n",
    "plt.xlabel(\"False Positive Rate\")\n",
    "plt.ylabel(\"True Positive Rate\")\n",
    "plt.title(\"ROC Curve Comparison\")\n",
    "plt.legend()\n",
    "plt.grid()\n",
    "plt.show()"
   ]
  },
  {
   "cell_type": "code",
   "execution_count": 2,
   "id": "10a65008-eb21-4479-a184-770c91649198",
   "metadata": {},
   "outputs": [
    {
     "name": "stderr",
     "output_type": "stream",
     "text": [
      "[NbConvertApp] Converting notebook fraud_detection_app.ipynb to script\n",
      "[NbConvertApp] Writing 2482 bytes to fraud_detection_app.py\n"
     ]
    }
   ],
   "source": [
    "!jupyter nbconvert --to script fraud_detection_app.ipynb\n"
   ]
  },
  {
   "cell_type": "code",
   "execution_count": 3,
   "id": "c2a502c4-03ae-4a47-883b-04555c4ebbf9",
   "metadata": {},
   "outputs": [
    {
     "name": "stdout",
     "output_type": "stream",
     "text": [
      "Note: you may need to restart the kernel to use updated packages.\n"
     ]
    }
   ],
   "source": [
    "pip freeze > requirements.txt\n"
   ]
  },
  {
   "cell_type": "code",
   "execution_count": 2,
   "id": "4e68b941-affe-440b-a567-53707356ac85",
   "metadata": {},
   "outputs": [
    {
     "name": "stdout",
     "output_type": "stream",
     "text": [
      "altair==5.5.0\n",
      "anyio==4.7.0\n",
      "argon2-cffi==23.1.0\n",
      "argon2-cffi-bindings==21.2.0\n",
      "arrow==1.3.0\n",
      "asttokens==3.0.0\n",
      "async-lru==2.0.4\n",
      "attrs==24.2.0\n",
      "babel==2.16.0\n",
      "beautifulsoup4==4.12.3\n",
      "bleach==6.2.0\n",
      "blinker==1.9.0\n",
      "bs4==0.0.2\n",
      "cachetools==5.5.2\n",
      "certifi==2024.8.30\n",
      "cffi==1.17.1\n",
      "charset-normalizer==3.4.0\n",
      "click==8.2.1\n",
      "colorama==0.4.6\n",
      "comm==0.2.2\n",
      "contourpy==1.3.1\n",
      "curl_cffi==0.11.4\n",
      "cycler==0.12.1\n",
      "debugpy==1.8.9\n",
      "decorator==5.1.1\n",
      "defusedxml==0.7.1\n",
      "et_xmlfile==2.0.0\n",
      "executing==2.1.0\n",
      "fastjsonschema==2.21.1\n",
      "fonttools==4.55.8\n",
      "fqdn==1.5.1\n",
      "frozendict==2.4.6\n",
      "gitdb==4.0.12\n",
      "GitPython==3.1.44\n",
      "h11==0.14.0\n",
      "html5lib==1.1\n",
      "httpcore==1.0.7\n",
      "httpx==0.28.1\n",
      "idna==3.10\n",
      "imbalanced-learn==0.13.0\n",
      "ipykernel==6.29.5\n",
      "ipython==8.30.0\n",
      "ipywidgets==8.1.5\n",
      "isoduration==20.11.0\n",
      "jedi==0.19.2\n",
      "Jinja2==3.1.4\n",
      "joblib==1.4.2\n",
      "json5==0.10.0\n",
      "jsonpointer==3.0.0\n",
      "jsonschema==4.23.0\n",
      "jsonschema-specifications==2024.10.1\n",
      "jupyter==1.1.1\n",
      "jupyter-console==6.6.3\n",
      "jupyter-events==0.10.0\n",
      "jupyter-lsp==2.2.5\n",
      "jupyter_client==8.6.3\n",
      "jupyter_core==5.7.2\n",
      "jupyter_server==2.14.2\n",
      "jupyter_server_terminals==0.5.3\n",
      "jupyterlab==4.3.3\n",
      "jupyterlab_pygments==0.3.0\n",
      "jupyterlab_server==2.27.3\n",
      "jupyterlab_widgets==3.0.13\n",
      "kiwisolver==1.4.8\n",
      "lxml==5.4.0\n",
      "MarkupSafe==3.0.2\n",
      "matplotlib==3.10.0\n",
      "matplotlib-inline==0.1.7\n",
      "mistune==3.0.2\n",
      "multitasking==0.0.11\n",
      "narwhals==1.41.0\n",
      "nbclient==0.10.1\n",
      "nbconvert==7.16.4\n",
      "nbformat==5.10.4\n",
      "nest-asyncio==1.6.0\n",
      "notebook==7.3.1\n",
      "notebook_shim==0.2.4\n",
      "numpy==2.2.2\n",
      "openpyxl==3.1.5\n",
      "overrides==7.7.0\n",
      "packaging==24.2\n",
      "pandas==2.2.3\n",
      "pandocfilters==1.5.1\n",
      "parso==0.8.4\n",
      "patsy==1.0.1\n",
      "peewee==3.18.1\n",
      "pillow==11.1.0\n",
      "platformdirs==4.3.6\n",
      "plotly==6.1.2\n",
      "prometheus_client==0.21.1\n",
      "prompt_toolkit==3.0.48\n",
      "protobuf==6.31.1\n",
      "psutil==6.1.0\n",
      "pure_eval==0.2.3\n",
      "pyarrow==20.0.0\n",
      "pycparser==2.22\n",
      "pydeck==0.9.1\n",
      "Pygments==2.18.0\n",
      "pyparsing==3.2.1\n",
      "python-dateutil==2.9.0.post0\n",
      "python-json-logger==3.2.0\n",
      "pytz==2024.2\n",
      "pywin32==308\n",
      "pywinpty==2.0.14\n",
      "PyYAML==6.0.2\n",
      "pyzmq==26.2.0\n",
      "referencing==0.35.1\n",
      "requests==2.32.3\n",
      "rfc3339-validator==0.1.4\n",
      "rfc3986-validator==0.1.1\n",
      "rpds-py==0.22.3\n",
      "scikit-learn==1.6.1\n",
      "scipy==1.15.1\n",
      "seaborn==0.13.2\n",
      "Send2Trash==1.8.3\n",
      "setuptools==75.6.0\n",
      "six==1.17.0\n",
      "sklearn-compat==0.1.3\n",
      "smmap==5.0.2\n",
      "sniffio==1.3.1\n",
      "soupsieve==2.6\n",
      "stack-data==0.6.3\n",
      "statsmodels==0.14.4\n",
      "streamlit==1.45.1\n",
      "tenacity==9.1.2\n",
      "terminado==0.18.1\n",
      "threadpoolctl==3.5.0\n",
      "tinycss2==1.4.0\n",
      "toml==0.10.2\n",
      "tornado==6.4.2\n",
      "traitlets==5.14.3\n",
      "types-python-dateutil==2.9.0.20241206\n",
      "typing_extensions==4.12.2\n",
      "tzdata==2025.1\n",
      "uri-template==1.3.0\n",
      "urllib3==2.2.3\n",
      "watchdog==6.0.0\n",
      "wcwidth==0.2.13\n",
      "webcolors==24.11.1\n",
      "webencodings==0.5.1\n",
      "websocket-client==1.8.0\n",
      "websockets==15.0.1\n",
      "wget==3.2\n",
      "widgetsnbextension==4.0.13\n",
      "xgboost==3.0.0\n",
      "yfinance==0.2.63\n"
     ]
    }
   ],
   "source": [
    "!type requirements.txt\n"
   ]
  },
  {
   "cell_type": "code",
   "execution_count": 3,
   "id": "55cb75f5-3ae3-4a08-a185-4c110a82bf29",
   "metadata": {},
   "outputs": [],
   "source": [
    "with open(\"requirements.txt\", \"w\") as f:\n",
    "    f.write(\"\"\"streamlit\n",
    "pandas\n",
    "scikit-learn\n",
    "imbalanced-learn\n",
    "xgboost\n",
    "matplotlib\n",
    "seaborn\"\"\")\n"
   ]
  },
  {
   "cell_type": "code",
   "execution_count": 4,
   "id": "86d844dc-de7d-4018-8d4e-ad92519eca30",
   "metadata": {},
   "outputs": [
    {
     "name": "stdout",
     "output_type": "stream",
     "text": [
      "streamlit\n",
      "pandas\n",
      "scikit-learn\n",
      "imbalanced-learn\n",
      "xgboost\n",
      "matplotlib\n",
      "seaborn\n"
     ]
    }
   ],
   "source": [
    "!type requirements.txt\n"
   ]
  },
  {
   "cell_type": "code",
   "execution_count": 5,
   "id": "3d4cd18a-a1df-4a76-90ba-4fc30eeafd49",
   "metadata": {},
   "outputs": [
    {
     "data": {
      "text/plain": [
       "'C:\\\\Users\\\\KIIT'"
      ]
     },
     "execution_count": 5,
     "metadata": {},
     "output_type": "execute_result"
    }
   ],
   "source": [
    "import os\n",
    "os.getcwd()\n"
   ]
  },
  {
   "cell_type": "code",
   "execution_count": null,
   "id": "f17f2690-d651-47f9-892e-3aa33086cd17",
   "metadata": {},
   "outputs": [],
   "source": []
  }
 ],
 "metadata": {
  "kernelspec": {
   "display_name": "Python 3 (ipykernel)",
   "language": "python",
   "name": "python3"
  },
  "language_info": {
   "codemirror_mode": {
    "name": "ipython",
    "version": 3
   },
   "file_extension": ".py",
   "mimetype": "text/x-python",
   "name": "python",
   "nbconvert_exporter": "python",
   "pygments_lexer": "ipython3",
   "version": "3.12.2"
  }
 },
 "nbformat": 4,
 "nbformat_minor": 5
}
